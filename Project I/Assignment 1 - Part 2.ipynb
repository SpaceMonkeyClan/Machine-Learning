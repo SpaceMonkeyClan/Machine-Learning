{
 "cells": [
  {
   "cell_type": "code",
   "execution_count": 2,
   "metadata": {},
   "outputs": [
    {
     "name": "stdout",
     "output_type": "stream",
     "text": [
      "\n",
      "\n",
      "Estimated Y-Intercept Coefficient: \n",
      " [0.62958355]\n",
      "\n",
      "\n",
      "Coefficients: \n",
      " [[ 0.00130416 -0.0005927  -0.00121961 -0.00048995  0.00492892 -0.00100049\n",
      "   0.00018961  0.0017398  -0.00521309 -0.00045191]]\n",
      "\n",
      "\n",
      "Average error : 0.6223786841937504\n",
      "Residual mean squared error with test data:  0.7876203494132424\n"
     ]
    },
    {
     "data": {
      "image/png": "[encoded data removed]",
      "text/plain": [
       "<Figure size 432x288 with 1 Axes>"
      ]
     },
     "metadata": {},
     "output_type": "display_data"
    },
    {
     "name": "stdout",
     "output_type": "stream",
     "text": [
      "\n",
      "The end score of the model:  0.00022418377743316234\n"
     ]
    }
   ],
   "source": [
    "%matplotlib inline\n",
    "\n",
    "import csv\n",
    "\n",
    "import numpy as np # linear algebra\n",
    "import pandas as pd, os, math # data processing, CSV file I/O (e.g. pd.read_csv)\n",
    "\n",
    "from sklearn.metrics import accuracy_score\n",
    "from sklearn.metrics import log_loss\n",
    "from sklearn.model_selection import train_test_split\n",
    "\n",
    "from sklearn import datasets, linear_model\n",
    "from sklearn.metrics import mean_squared_error, r2_score\n",
    "\n",
    "#import matplotlib.pyplot as plt\n",
    "from matplotlib import pyplot as plt\n",
    "\n",
    "# seed for reproducible results\n",
    "pd.set_option('display.max_columns', 600)\n",
    "\n",
    "#load csv file(dataset)\n",
    "test_data = pd.read_csv(\"https://archive.ics.uci.edu/ml/machine-learning-databases/poker/poker-hand-testing.data\",names=['S1','C1','S2','C2','S3','C3','S4','C4','S5','C5','hand'])\n",
    "train_data = pd.read_csv(\"https://archive.ics.uci.edu/ml/machine-learning-databases/poker/poker-hand-training-true.data\",names=['S1','C1','S2','C2','S3','C3','S4','C4','S5','C5','hand'])\n",
    "\n",
    "X = train_data.drop(['hand'],axis=1)\n",
    "y = train_data.hand\n",
    "Xte = test_data.drop(['hand'],axis=1)\n",
    "yte = test_data.hand\n",
    "\n",
    "# Split the data into two parts: training data and testing data\n",
    "X_train,X_test,y_train,y_test = train_test_split(X,(y[:, np.newaxis]), test_size=0.2, random_state=42)\n",
    "\n",
    "#+++++++++++++++++++++++++++++++++++++++++++++++++++++++++++++++++++++++++++++++++++++++++++++++++++++++++++++++++\n",
    "#                                          Task to complete                                                      # \n",
    "#+++++++++++++++++++++++++++++++++++++++++++++++++++++++++++++++++++++++++++++++++++++++++++++++++++++++++++++++++\n",
    "\n",
    "#=================================================================================================================\n",
    "# Task 1-1: use linear regression in scikit-learn\n",
    "#=================================================================================================================\n",
    "\n",
    "# Creating the linear regression object\n",
    "regr = linear_model.LinearRegression()\n",
    "\n",
    "# Training the model using the training sets\n",
    "regr.fit(X_train, y_train)\n",
    "\n",
    "# Make predictions using the testing set\n",
    "poker_y_pred = regr.predict(X_test)\n",
    "\n",
    "#=================================================================================================================\n",
    "# Task 1-2: show intercept and coefficients\n",
    "#=================================================================================================================\n",
    "\n",
    "# The Estimated Intercept\n",
    "print('\\n\\nEstimated Y-Intercept Coefficient: \\n', regr.intercept_)\n",
    "\n",
    "# The coefficients\n",
    "print('\\n\\nCoefficients: \\n', regr.coef_)\n",
    "\n",
    "#=================================================================================================================\n",
    "# Task 1-3: show errors on training dataset and testing dataset\n",
    "#=================================================================================================================\n",
    "avgError = sum([math.fabs(x-y) for x, y in zip(poker_y_pred, y_test)]) / len(poker_y_pred)\n",
    "print(\"\\n\\nAverage error :\", avgError)\n",
    "\n",
    "# The mean squared error w/ test data\n",
    "rmsError = sum([(x-y)**2 for x, y in zip(poker_y_pred, y_test)]) / len(poker_y_pred)\n",
    "rmsError = math.sqrt(rmsError)\n",
    "print(\"Residual mean squared error with test data: \", rmsError)\n",
    "\n",
    "#=================================================================================================================\n",
    "# Task 1-4: show plot a figure to show your predictions and real prices on the testing dataset\n",
    "#=================================================================================================================\n",
    "\n",
    "plt.plot(y_test, 'bo', label='actual')\n",
    "plt.plot(poker_y_pred, 'ro', label='predicted')\n",
    "plt.xlabel('Actual Hand')\n",
    "plt.ylabel('Predicted Hand')\n",
    "plt.title('Expected Vs. Predicted (Hand)')\n",
    "plt.legend()\n",
    "plt.show()\n",
    "\n",
    "#=================================================================================================================\n",
    "# Task 1-5: End result and conclusion(Output final score of model and percent accuracy)\n",
    "#=================================================================================================================\n",
    "\n",
    "print('\\nThe end score of the model: ', regr.score(X_train, y_train))\n"
   ]
  },
  {
   "cell_type": "code",
   "execution_count": null,
   "metadata": {},
   "outputs": [],
   "source": []
  }
 ],
 "metadata": {
  "kernelspec": {
   "display_name": "Python 3",
   "language": "python",
   "name": "python3"
  },
  "language_info": {
   "codemirror_mode": {
    "name": "ipython",
    "version": 3
   },
   "file_extension": ".py",
   "mimetype": "text/x-python",
   "name": "python",
   "nbconvert_exporter": "python",
   "pygments_lexer": "ipython3",
   "version": "3.6.5"
  }
 },
 "nbformat": 4,
 "nbformat_minor": 2
}
